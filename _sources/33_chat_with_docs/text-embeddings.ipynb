{
 "cells": [
  {
   "cell_type": "markdown",
   "id": "b8302581-63e0-45b7-9dd7-446b75fd86a3",
   "metadata": {
    "tags": []
   },
   "source": [
    "# Text embeddings\n",
    "\n",
    "A text embedding is a high-dimensional latent space where words or phrases are represented as vectors. In this notebook we will determine the vectors for a couple of words. For visualization purposes, we will apply principal-component-analysis to these vectors and display the relationship of the words in two-dimensional space."
   ]
  },
  {
   "cell_type": "code",
   "execution_count": 1,
   "id": "0702eb61-89a5-407c-89c5-c41ec3ce9279",
   "metadata": {
    "tags": []
   },
   "outputs": [],
   "source": [
    "import openai\n",
    "import numpy as np\n",
    "import matplotlib.pyplot as plt\n",
    "from sklearn.decomposition import PCA"
   ]
  },
  {
   "cell_type": "markdown",
   "id": "385e8feb-10b4-49d6-9843-9064ebf0d00d",
   "metadata": {
    "tags": []
   },
   "source": [
    "This helper functions will serve us to determine the vector for each word / text."
   ]
  },
  {
   "cell_type": "code",
   "execution_count": 2,
   "id": "05d94cec-c9e5-468c-a343-5779a5e2eb6c",
   "metadata": {},
   "outputs": [],
   "source": [
    "from llama_index.embeddings.huggingface import HuggingFaceEmbedding\n",
    "\n",
    "embed_model = HuggingFaceEmbedding(model_name=\"intfloat/multilingual-e5-large-instruct\")\n",
    "\n",
    "def embed(text):\n",
    "    return embed_model._get_text_embedding(text)"
   ]
  },
  {
   "cell_type": "code",
   "execution_count": 3,
   "id": "fe06ecc8-0f79-4997-ac29-af49c232d4e6",
   "metadata": {
    "tags": []
   },
   "outputs": [
    {
     "data": {
      "text/plain": [
       "[0.0052167209796607494, 0.025283105671405792, 0.00728016160428524]"
      ]
     },
     "execution_count": 3,
     "metadata": {},
     "output_type": "execute_result"
    }
   ],
   "source": [
    "vector = embed(\"Hello world\")\n",
    "vector[:3]"
   ]
  },
  {
   "cell_type": "code",
   "execution_count": 4,
   "id": "b4311180-4b95-42e7-8ed5-72c88293a486",
   "metadata": {
    "tags": []
   },
   "outputs": [
    {
     "data": {
      "text/plain": [
       "1024"
      ]
     },
     "execution_count": 4,
     "metadata": {},
     "output_type": "execute_result"
    }
   ],
   "source": [
    "len(vector)"
   ]
  },
  {
   "cell_type": "code",
   "execution_count": 5,
   "id": "f9cec750-1bff-45d5-9508-f2acecad277d",
   "metadata": {
    "tags": []
   },
   "outputs": [],
   "source": [
    "words = [ \"dog\", \"cat\", \"hamster\", \"guinea pig\", \"pet\", \"microscope\"]\n",
    "\n",
    "# Example of input dictionary\n",
    "object_coords = {word: embed(word) for word in words}"
   ]
  },
  {
   "cell_type": "code",
   "execution_count": 6,
   "id": "62dc6b02-7cc4-4e8d-a434-ebdedda947aa",
   "metadata": {
    "tags": []
   },
   "outputs": [
    {
     "data": {
      "image/png": "[encoded data removed]",
      "text/plain": [
       "<Figure size 300x300 with 1 Axes>"
      ]
     },
     "metadata": {},
     "output_type": "display_data"
    }
   ],
   "source": [
    "# Extract names and numerical lists\n",
    "names = list(object_coords.keys())\n",
    "data_matrix = np.array(list(object_coords.values()))\n",
    "\n",
    "# Apply PCA\n",
    "pca = PCA(n_components=2)  # Reduce to 2 components for visualization\n",
    "transformed_data = pca.fit_transform(data_matrix)\n",
    "\n",
    "# Create scatter plot\n",
    "plt.figure(figsize=(3, 3))\n",
    "plt.scatter(transformed_data[:, 0], transformed_data[:, 1])\n",
    "\n",
    "# Annotate data points with names\n",
    "for i, name in enumerate(names):\n",
    "    plt.annotate(name, (transformed_data[i, 0], transformed_data[i, 1]))\n",
    "\n",
    "plt.title('PCA of word embedding')\n",
    "plt.xlabel('Principal Component 1')\n",
    "plt.ylabel('Principal Component 2')\n",
    "plt.show()"
   ]
  },
  {
   "cell_type": "markdown",
   "id": "85c9f996-b90c-4740-8f9d-d2bcf72604f2",
   "metadata": {
    "tags": []
   },
   "source": [
    "## Exercise\n",
    "Draw an embedding for words from your scientific domain. If you're in computer science, try \"cloud\", \"computer\", \"cloud computing\", \"hpc\", \"cluster\", \"workstation\", \"pc\", \"edge computing\".\n",
    "* Could you predict how the words are placed in this space? \n",
    "* Draw the same embedding again - is the visualization repeatable? \n",
    "* Change the order of the words in the list. Would you expect the visualization to change?\n",
    "* Add words such as  \"banana\", \"apple\", \"orange\". Could you predict the view?"
   ]
  },
  {
   "cell_type": "code",
   "execution_count": null,
   "id": "257afedd-8096-41bd-a033-d6a3c77de28c",
   "metadata": {},
   "outputs": [],
   "source": []
  }
 ],
 "metadata": {
  "kernelspec": {
   "display_name": "Python 3 (ipykernel)",
   "language": "python",
   "name": "python3"
  },
  "language_info": {
   "codemirror_mode": {
    "name": "ipython",
    "version": 3
   },
   "file_extension": ".py",
   "mimetype": "text/x-python",
   "name": "python",
   "nbconvert_exporter": "python",
   "pygments_lexer": "ipython3",
   "version": "3.11.11"
  }
 },
 "nbformat": 4,
 "nbformat_minor": 5
}
