{
 "cells": [
  {
   "cell_type": "markdown",
   "id": "87404224-b84b-409f-8683-c4a243d29722",
   "metadata": {},
   "source": [
    "# Blablador endpoint\n",
    "In this notebook we will use the [blablardor](https://helmholtz-blablador.fz-juelich.de/) infrastructure at the Research Center Jülich. Before you can access it, you need to create an API key as explained [on this page](https://sdlaml.pages.jsc.fz-juelich.de/ai/guides/blablador_api_access/). You will see that also this method uses the OpenAI API and we change the `base_url`."
   ]
  },
  {
   "cell_type": "code",
   "execution_count": 1,
   "id": "752e974d-9aaf-44aa-80fb-01a042cf5774",
   "metadata": {
    "tags": []
   },
   "outputs": [
    {
     "data": {
      "text/plain": [
       "'1.58.1'"
      ]
     },
     "execution_count": 1,
     "metadata": {},
     "output_type": "execute_result"
    }
   ],
   "source": [
    "import os\n",
    "import openai\n",
    "openai.__version__"
   ]
  },
  {
   "cell_type": "code",
   "execution_count": 2,
   "id": "ab55e229-93b9-4e9b-974d-037002690bf0",
   "metadata": {
    "tags": []
   },
   "outputs": [],
   "source": [
    "def prompt_blablador(message:str, model=\"gpt-3.5-turbo\"):\n",
    "    \"\"\"A prompt helper function that sends a message to Blablador (FZ Jülich)\n",
    "    and returns only the text response.\n",
    "    \"\"\"\n",
    "    import os\n",
    "    \n",
    "    # convert message in the right format if necessary\n",
    "    if isinstance(message, str):\n",
    "        message = [{\"role\": \"user\", \"content\": message}]\n",
    "    \n",
    "    # setup connection to the LLM\n",
    "    client = openai.OpenAI()\n",
    "    client.base_url = \"https://helmholtz-blablador.fz-juelich.de:8000/v1\"\n",
    "    \n",
    "    # todo: enter your API key here:\n",
    "    # client.api_key = \"\"\n",
    "    client.api_key = os.environ.get('BLABLADOR_API_KEY')\n",
    "    response = client.chat.completions.create(\n",
    "        model=model,\n",
    "        messages=message\n",
    "    )\n",
    "    \n",
    "    # extract answer\n",
    "    return response.choices[0].message.content"
   ]
  },
  {
   "cell_type": "code",
   "execution_count": 3,
   "id": "a7654a20-a307-4b26-8d25-bef20b70224e",
   "metadata": {
    "tags": []
   },
   "outputs": [
    {
     "data": {
      "text/plain": [
       "'\\nHello! How can I assist you today?'"
      ]
     },
     "execution_count": 3,
     "metadata": {},
     "output_type": "execute_result"
    }
   ],
   "source": [
    "prompt_blablador(\"Hi!\")"
   ]
  },
  {
   "cell_type": "markdown",
   "id": "578e9edd-b58f-4fd0-a56d-1966105221dc",
   "metadata": {},
   "source": [
    "## Exercise\n",
    "List the models available in the blablador endpoint and try them out by specifying them when calling `prompt_blablador()`."
   ]
  },
  {
   "cell_type": "code",
   "execution_count": 2,
   "id": "05171ba7-a775-41c5-954d-7d4fc2b5b625",
   "metadata": {},
   "outputs": [
    {
     "name": "stdout",
     "output_type": "stream",
     "text": [
      "1 - Llama3 405 on WestAI with 4b quantization\n",
      "1 - Ministral - 8b - out best fast model as november 2024\n",
      "1 - Teuken-7B-instruct-research-v0.4 - The OpenGPT-X model\n",
      "10 - DeepSeek-R1-Distill-Llama-70B - the best large  model as of January 2025\n",
      "10 - DeepSeek-R1-Distill-Llama-8B - the best fast model as of January 2025\n",
      "3 - Qwen2.5-Coder-7B-Instruct - the best model for coding as of september 2024\n",
      "4 - Cosmosage V3.1 - Answers your Cosmology and Astronomy questions (new version September 2024)\n",
      "5 - GritLM-7B - For Chat AND Text Embeddings\n",
      "99 - TrustLLM preview 2\n",
      "alias-code\n",
      "alias-cosmosage\n",
      "alias-embeddings\n",
      "alias-fast\n",
      "alias-large\n",
      "alias-llama3-huge\n",
      "alias-opengptx\n",
      "alias-trustllm\n",
      "gpt-3.5-turbo\n",
      "text-davinci-003\n",
      "text-embedding-ada-002\n"
     ]
    }
   ],
   "source": [
    "client = openai.OpenAI()\n",
    "client.base_url = \"https://helmholtz-blablador.fz-juelich.de:8000/v1\"\n",
    "client.api_key = os.environ.get('BLABLADOR_API_KEY')\n",
    "\n",
    "print(\"\\n\".join([model.id for model in client.models.list().data]))"
   ]
  },
  {
   "cell_type": "code",
   "execution_count": null,
   "id": "7e810ee2-4d22-42f6-add5-532cf95b4b9c",
   "metadata": {},
   "outputs": [],
   "source": []
  }
 ],
 "metadata": {
  "kernelspec": {
   "display_name": "Python 3 (ipykernel)",
   "language": "python",
   "name": "python3"
  },
  "language_info": {
   "codemirror_mode": {
    "name": "ipython",
    "version": 3
   },
   "file_extension": ".py",
   "mimetype": "text/x-python",
   "name": "python",
   "nbconvert_exporter": "python",
   "pygments_lexer": "ipython3",
   "version": "3.11.11"
  }
 },
 "nbformat": 4,
 "nbformat_minor": 5
}
