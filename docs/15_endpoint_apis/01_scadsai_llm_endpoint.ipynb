{
 "cells": [
  {
   "cell_type": "markdown",
   "id": "87404224-b84b-409f-8683-c4a243d29722",
   "metadata": {},
   "source": [
    "# ScaDS.AI LLM endpoint\n",
    "In this notebook we will access large language mocels hosted at the [ScaDS.AI LLM infrastructure](https://llm.scads.ai/) infrastructure of the [Center for Information Services and High Performance Computing (ZIH) of TU Dresden](https://tu-dresden.de/zih). To use it, you must be connected via [TU Dresden VPN](https://tu-dresden.de/zih/dienste/service-katalog/arbeitsumgebung/zugang_datennetz/vpn). This method uses the [openai Python library](https://github.com/openai/openai-python), and the OpenAI API. We just change the `base_url`.\n",
    "\n",
    "## Read more\n",
    "* [ScaDS.AI LLM examples](https://gitlab.hrz.tu-chemnitz.de/scads-ai-llm/scads-ai-llm-api-examples)"
   ]
  },
  {
   "cell_type": "code",
   "execution_count": 1,
   "id": "752e974d-9aaf-44aa-80fb-01a042cf5774",
   "metadata": {
    "tags": []
   },
   "outputs": [
    {
     "data": {
      "text/plain": [
       "'1.64.0'"
      ]
     },
     "execution_count": 1,
     "metadata": {},
     "output_type": "execute_result"
    }
   ],
   "source": [
    "import os\n",
    "import openai\n",
    "openai.__version__"
   ]
  },
  {
   "cell_type": "code",
   "execution_count": 2,
   "id": "ab55e229-93b9-4e9b-974d-037002690bf0",
   "metadata": {
    "tags": []
   },
   "outputs": [],
   "source": [
    "def prompt_scadsai_llm(message:str, model=\"meta-llama/Llama-3.3-70B-Instruct\"):\n",
    "    \"\"\"A prompt helper function that sends a message to ScaDS.AI LLM server at \n",
    "    ZIH TU Dresden and returns only the text response.\n",
    "    \"\"\"\n",
    "    import os\n",
    "    import openai\n",
    "    \n",
    "    # convert message in the right format if necessary\n",
    "    if isinstance(message, str):\n",
    "        message = [{\"role\": \"user\", \"content\": message}]\n",
    "    \n",
    "    # setup connection to the LLM\n",
    "    client = openai.OpenAI(base_url=\"https://llm.scads.ai/v1\",\n",
    "                           api_key=os.environ.get('SCADSAI_API_KEY')\n",
    "    )\n",
    "    response = client.chat.completions.create(\n",
    "        model=model,\n",
    "        messages=message\n",
    "    )\n",
    "    \n",
    "    # extract answer\n",
    "    return response.choices[0].message.content"
   ]
  },
  {
   "cell_type": "code",
   "execution_count": 3,
   "id": "a7654a20-a307-4b26-8d25-bef20b70224e",
   "metadata": {
    "tags": []
   },
   "outputs": [
    {
     "name": "stdout",
     "output_type": "stream",
     "text": [
      "It's nice to meet you. Is there something I can help you with or would you like to chat?\n"
     ]
    }
   ],
   "source": [
    "print(prompt_scadsai_llm(\"Hi!\"))"
   ]
  },
  {
   "cell_type": "markdown",
   "id": "73cdb5b7-988f-493c-af46-9b3953150108",
   "metadata": {},
   "source": [
    "We can also use reasoning models such as the [DeepSeek-R1](https://github.com/deepseek-ai/DeepSeek-R1) model hosted on the server."
   ]
  },
  {
   "cell_type": "code",
   "execution_count": 4,
   "id": "8a5b19a5-f506-4b52-8130-553f02f1aaa7",
   "metadata": {},
   "outputs": [
    {
     "name": "stdout",
     "output_type": "stream",
     "text": [
      "Okay, the user is asking about the meaning of life. That's a big question. I need to approach this carefully. Where do I start?\n",
      "\n",
      "First, I remember that different fields have different takes. Philosophy, religion, science, and personal beliefs each have their own perspectives. Maybe I should outline each one.\n",
      "\n",
      "Philosophy: Existentialists like Sartre and Camus say we create our own meaning. Absurdism, as per Camus, accepts the search for meaning in a meaningless world. Nietzsche talks about the will to power and creating your own values. Then there's religious views. Christianity and Islam often point to serving a divine purpose. Eastern religions like Buddhism and Hinduism might focus on enlightenment and escaping suffering through cycles of rebirth.\n",
      "\n",
      "Science: Evolutionary perspective might say reproduction and survival. But that's more of a 'how' than a 'why.' Neuroscientists might link meaning to brain functions related to happiness and social bonds.\n",
      "\n",
      "Personal meaning: Many people find purpose in relationships, creativity, helping others, personal goals. Maybe mention Viktor Frankl's \"Man's Search for Meaning,\" where he says meaning comes from what we give to the world, our relationships, our attitudes.\n",
      "\n",
      "Should I mention that there's no single answer? Yes, it's important to note that it's subjective. Also, the user might be looking for reassurance or different viewpoints rather than a definitive answer.\n",
      "\n",
      "Wait, do I need to address any potential follow-up questions? Like, why do people ask this? Or how to find personal meaning? Maybe touch on that briefly but stay concise.\n",
      "\n",
      "Check for any cultural considerations. The answer shouldn't favor any religion or belief system. Keep it neutral and inclusive.\n",
      "\n",
      "Finally, wrap it up by emphasizing the personal journey aspect. Encourage reflection on values, passions, and impact. That should cover it without being too prescriptive.\n",
      "</think>\n",
      "\n",
      "The question of the meaning of life is deeply subjective and has been explored through various lenses, including philosophy, religion, science, and personal experience. Here’s a concise overview of different perspectives:\n",
      "\n",
      "1. **Philosophical Perspectives**:\n",
      "   - **Existentialism**: Proposes that individuals create their own meaning through choices and actions (e.g., Sartre, Camus). Camus' \"absurdism\" argues that embracing life’s lack of inherent meaning is key to living authentically.\n",
      "   - **Nihilism**: Suggests life has no intrinsic meaning, but this can be liberating rather than despairing.\n",
      "   - **Stoicism**: Advocates finding purpose in virtue, acceptance, and living in harmony with nature.\n",
      "\n",
      "2. **Religious/Spiritual Views**:\n",
      "   - **Theistic Religions** (e.g., Christianity, Islam, Hinduism): Often tie life’s purpose to divine connection, moral growth, or transcending suffering (e.g., moksha, nirvana, union with God).\n",
      "   - **Buddhism**: Emphasizes ending suffering (dukkha) through enlightenment and compassion.\n",
      "\n",
      "3. **Scientific Angles**:\n",
      "   - **Biology/Evolution**: Life’s \"purpose\" may relate to survival, reproduction, and adaptation. However, science typically explains \"how\" rather than \"why.\"\n",
      "   - **Cosmic Perspective**: Some find awe in the universe’s vastness and our fleeting but conscious role within it.\n",
      "\n",
      "4. **Personal Meaning**:\n",
      "   - Many derive meaning from relationships, creativity, helping others, pursuit of knowledge, or personal goals. Viktor Frankl, in *Man’s Search for Meaning*, argues meaning arises from our responses to life’s challenges, our contributions, and our attitudes.\n",
      "\n",
      "**In Short**: There’s no universally agreed-upon answer. The search itself may be part of the journey—a chance to reflect on values, passions, and the legacy one wishes to leave. What gives *your* life meaning?\n"
     ]
    }
   ],
   "source": [
    "print(prompt_scadsai_llm(\"What is the meaning of life?\", model=\"deepseek-ai/DeepSeek-R1\"))"
   ]
  },
  {
   "cell_type": "markdown",
   "id": "578e9edd-b58f-4fd0-a56d-1966105221dc",
   "metadata": {},
   "source": [
    "## Exercise\n",
    "List the models available in the endpoint and try them out by specifying them when calling `prompt_scadsai_llm(\"...\", model=...)`."
   ]
  },
  {
   "cell_type": "code",
   "execution_count": 5,
   "id": "05171ba7-a775-41c5-954d-7d4fc2b5b625",
   "metadata": {},
   "outputs": [
    {
     "name": "stdout",
     "output_type": "stream",
     "text": [
      "mistral-7b-q4\n",
      "deepseek-ai/DeepSeek-R1\n",
      "CohereForAI/c4ai-command-r-08-2024\n",
      "tts-1-hd\n",
      "deepseek-ai/DeepSeek-R1-Distill-Qwen-32B\n",
      "openGPT-X/Teuken-7B-instruct-research-v0.4\n",
      "en-de-translator\n",
      "Alibaba-NLP/gte-Qwen2-1.5B-instruct\n",
      "deepseek-ai/DeepSeek-Coder-V2-Lite-Instruct\n",
      "meta-llama/Llama-3.3-70B-Instruct\n",
      "Qwen/Qwen2-VL-7B-Instruct\n"
     ]
    }
   ],
   "source": [
    "client = openai.OpenAI(base_url=\"https://llm.scads.ai/v1\",\n",
    "                       api_key=os.environ.get('SCADSAI_API_KEY'))\n",
    "\n",
    "print(\"\\n\".join([model.id for model in client.models.list().data]))"
   ]
  },
  {
   "cell_type": "code",
   "execution_count": null,
   "id": "7e810ee2-4d22-42f6-add5-532cf95b4b9c",
   "metadata": {},
   "outputs": [],
   "source": []
  }
 ],
 "metadata": {
  "kernelspec": {
   "display_name": "Python 3 (ipykernel)",
   "language": "python",
   "name": "python3"
  },
  "language_info": {
   "codemirror_mode": {
    "name": "ipython",
    "version": 3
   },
   "file_extension": ".py",
   "mimetype": "text/x-python",
   "name": "python",
   "nbconvert_exporter": "python",
   "pygments_lexer": "ipython3",
   "version": "3.11.11"
  }
 },
 "nbformat": 4,
 "nbformat_minor": 5
}
