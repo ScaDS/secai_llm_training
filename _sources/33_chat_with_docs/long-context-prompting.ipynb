{
 "cells": [
  {
   "cell_type": "markdown",
   "id": "4a01c88b-bd07-4517-8528-305fd786c397",
   "metadata": {},
   "source": [
    "# Long context prompting\n",
    "\n",
    "To answer questions, e.g. about the HPC system, we can provide the entire documentation as text. In this example, we will use the [HPC compendium](https://compendium.hpc.tu-dresden.de/) which is licensed under [CC BY 4.0](https://creativecommons.org/licenses/by/4.0/) by TU Dresden ZIH. \n",
    "\n",
    "This technique is also known as [in-context learning](https://arxiv.org/abs/2301.00234)."
   ]
  },
  {
   "cell_type": "code",
   "execution_count": 1,
   "id": "d96fc9d4-9225-49f9-9f8b-5db5fa51a999",
   "metadata": {},
   "outputs": [],
   "source": [
    "from utilities import prompt_gemini\n",
    "from IPython.display import display, Markdown"
   ]
  },
  {
   "cell_type": "markdown",
   "id": "57c5fb13-f038-4593-98e0-c51f3d39bbce",
   "metadata": {},
   "source": [
    "This is the question we aim to answer:"
   ]
  },
  {
   "cell_type": "code",
   "execution_count": 2,
   "id": "681d08ad-2804-45ea-b27a-ef7c6e6ebea6",
   "metadata": {},
   "outputs": [],
   "source": [
    "question = \"How can I access the Jupyter Hub on the HPC system?\""
   ]
  },
  {
   "cell_type": "code",
   "execution_count": 3,
   "id": "102143d2-0c22-4fc2-aebc-c7fb7f042d89",
   "metadata": {},
   "outputs": [
    {
     "data": {
      "text/markdown": [
       "You can access the Jupyter Hub on the HPC system through the following URL: [https://jupyterhub.hpc.tu-dresden.de](https://jupyterhub.hpc.tu-dresden.de). You will need an active HPC project and your ZIH credentials to log in.\n"
      ],
      "text/plain": [
       "<IPython.core.display.Markdown object>"
      ]
     },
     "metadata": {},
     "output_type": "display_data"
    }
   ],
   "source": [
    "# Read the full-text content of the HPC compendium \n",
    "with open('hpc_compendium_full_text.md', 'r', encoding='utf-8') as f:\n",
    "    content = f.read()\n",
    "\n",
    "response = prompt_gemini(f\"\"\"\n",
    "Given a long text, answer this question:\n",
    "\n",
    "## Question\n",
    "\n",
    "{question}\n",
    "\n",
    "## Long text\n",
    "\n",
    "{content}\n",
    "\n",
    "## Your task:\n",
    "\n",
    "Answer the question: {question}\n",
    "\"\"\", model=\"gemini-1.5-pro-exp-0827\")\n",
    "\n",
    "display(Markdown(response))"
   ]
  },
  {
   "cell_type": "markdown",
   "id": "cac505f4-d081-482f-a240-2004a87c075e",
   "metadata": {},
   "source": [
    "## Exercise\n",
    "The example above uses Google gemini to prompt for an answer to our question. Why do you think so?\n",
    "\n",
    "Hint: Try to run the code using `prompt_scadsai_llm()`."
   ]
  },
  {
   "cell_type": "code",
   "execution_count": null,
   "id": "51b26cf2-d0a1-49b0-9358-96541ba1604b",
   "metadata": {},
   "outputs": [],
   "source": []
  },
  {
   "cell_type": "code",
   "execution_count": null,
   "id": "2bdb5638-feba-459d-ae86-7403f76eb26c",
   "metadata": {},
   "outputs": [],
   "source": []
  }
 ],
 "metadata": {
  "kernelspec": {
   "display_name": "Python 3 (ipykernel)",
   "language": "python",
   "name": "python3"
  },
  "language_info": {
   "codemirror_mode": {
    "name": "ipython",
    "version": 3
   },
   "file_extension": ".py",
   "mimetype": "text/x-python",
   "name": "python",
   "nbconvert_exporter": "python",
   "pygments_lexer": "ipython3",
   "version": "3.11.11"
  }
 },
 "nbformat": 4,
 "nbformat_minor": 5
}
