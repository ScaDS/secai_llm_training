{
 "cells": [
  {
   "cell_type": "markdown",
   "id": "937e36c6-c1e8-4014-a428-cc8921efae7b",
   "metadata": {},
   "source": [
    "# Simplifing agentic workflows\n",
    "Agentic workflows suffer from non-deterministic model outputs and error propagation. If just a single LLM prompt fails in a long agentic workflow, the overall result may be compromised. As checking intermediate results is not always easy, it might make sense to trade flexibility of agentic workflow with determinism by exchanging parts of the agentic workflow with classical text processing approaches. This notebook demonstrates that the entire agentic workflow for writing a scientific review, shown before, can also be implemented with a single prompt."
   ]
  },
  {
   "cell_type": "code",
   "execution_count": 1,
   "id": "47e60fe0-d906-4d0a-9714-ac3b1c4ac52c",
   "metadata": {},
   "outputs": [],
   "source": [
    "from IPython.display import display, Markdown\n",
    "from arxiv_utilities import prompt_scadsai_llm, get_arxiv_metadata"
   ]
  },
  {
   "cell_type": "code",
   "execution_count": 2,
   "id": "8aba4bfa-9d9e-410d-9063-6dd29cb9d802",
   "metadata": {},
   "outputs": [],
   "source": [
    "model = \"meta-llama/Llama-3.3-70B-Instruct\"\n",
    "prompt = prompt_scadsai_llm\n",
    "verbose = True"
   ]
  },
  {
   "cell_type": "markdown",
   "id": "fa5078c2-737a-45fd-8992-f51d29a7beb7",
   "metadata": {},
   "source": [
    "## Accumulating paper contents\n",
    "Here we use a for-loop to collect paper contents in a string. As mentioned before, we are just collecting paper abstracts due to technical limitations of state-of-the-art LLMs. Token limits prevent us from collecting entire papers in one long string."
   ]
  },
  {
   "cell_type": "code",
   "execution_count": 3,
   "id": "d511b8fe-240d-4c4f-aeec-d61ee304ecc4",
   "metadata": {},
   "outputs": [],
   "source": [
    "def read_arxiv_paper(arxiv_url:str)->str:\n",
    "    \"\"\"Read the abstract of an arxiv-paper and return most important contents in markdown format.\n",
    "\n",
    "    Args:\n",
    "        arxiv_url: url of the Arxiv paper\n",
    "    \"\"\"\n",
    "    if verbose:\n",
    "        print(f\"read_arxiv_paper({arxiv_url})\")\n",
    "    arxiv_id = arxiv_url.split(\"/\")[-1]\n",
    "    metadata = get_arxiv_metadata(arxiv_id)\n",
    "    title = metadata[\"title\"]\n",
    "    summary = metadata[\"summary\"]\n",
    "    authors = \", \".join(metadata[\"authors\"])\n",
    "    \n",
    "    return f\"\"\"## {title}\n",
    "By {authors}\n",
    "\n",
    "{summary}\n",
    "\"\"\""
   ]
  },
  {
   "cell_type": "code",
   "execution_count": 4,
   "id": "48233b8e-269e-4fab-9b47-16be4a1dd664",
   "metadata": {},
   "outputs": [
    {
     "name": "stdout",
     "output_type": "stream",
     "text": [
      "read_arxiv_paper(https://arxiv.org/abs/2211.11501)\n",
      "read_arxiv_paper(https://arxiv.org/abs/2308.16458)\n",
      "read_arxiv_paper(https://arxiv.org/abs/2411.07781)\n",
      "read_arxiv_paper(https://arxiv.org/abs/2408.13204)\n",
      "read_arxiv_paper(https://arxiv.org/abs/2406.15877)\n"
     ]
    }
   ],
   "source": [
    "paper_urls = [\"https://arxiv.org/abs/2211.11501\",\n",
    "\"https://arxiv.org/abs/2308.16458\",\n",
    "\"https://arxiv.org/abs/2411.07781\",\n",
    "\"https://arxiv.org/abs/2408.13204\",\n",
    "\"https://arxiv.org/abs/2406.15877\"]\n",
    "\n",
    "paper_contents = \"\"\n",
    "for url in paper_urls:\n",
    "    paper_contents += read_arxiv_paper(url) + \"\\n\""
   ]
  },
  {
   "cell_type": "markdown",
   "id": "8c314815-1f52-4802-9314-eded64f2b1a8",
   "metadata": {},
   "source": [
    "## Prompting\n",
    "Here we combine the paper contents with detailed instructions for writing a manuscript reviewing those papers."
   ]
  },
  {
   "cell_type": "code",
   "execution_count": 5,
   "id": "944bbd32-af7e-4045-9f19-9337ba1df415",
   "metadata": {},
   "outputs": [],
   "source": [
    "result = prompt(f\"\"\"You are a great scientific writer. Your task is to write a scientific review manuscript about some papers which are summarized below.\n",
    "\n",
    "# Content\n",
    "\n",
    "Write about the following summarized papers:\n",
    "\n",
    "{paper_contents}\n",
    "\n",
    "# Formatting\n",
    "Your goal is to write a manuscript that follows these criteria:\n",
    "* a scientific text with a short and descriptive title,\n",
    "* a scientific text with markdown sub-sections (# title, ## headlines, ...) avoiding bullet points,\n",
    "* structured in sub-sections by content, e.g. introduction, recent developments, methods, results, discussion, future work, ...\n",
    "* text using high-quality scientific language,\n",
    "* proper citations using markdown links to original paper urls (do not make up references!),\n",
    "* a clear abstract at the beginning of the text, and conclusions at the end\n",
    "\n",
    "# Your task\n",
    "Write a scientific review manuscript about the content summarized above following the mentioned formatting guidelines.\n",
    "\"\"\", model=model)"
   ]
  },
  {
   "cell_type": "code",
   "execution_count": 6,
   "id": "e530f509-f3da-472b-8970-f4fe56160a8b",
   "metadata": {},
   "outputs": [
    {
     "data": {
      "text/markdown": [
       "# Abstract\n",
       "The field of code generation has witnessed significant advancements with the advent of large language models (LLMs). However, the development of reliable and comprehensive benchmarks to evaluate the capabilities of these models is crucial for further progress. This review manuscript discusses recent developments in code generation benchmarks, highlighting their key features, evaluation methodologies, and findings. We summarize the main contributions of five notable benchmarks: DS-1000, BioCoder, RedCode, DOMAINEVAL, and BigCodeBench, and discuss their implications for the future of code generation research.\n",
       "\n",
       "# Introduction\n",
       "Code generation has become an increasingly important area of research, with potential applications in software development, data analysis, and other fields. The development of large language models (LLMs) has driven significant progress in this area, enabling the generation of high-quality code for a variety of tasks. However, the evaluation of these models requires reliable and comprehensive benchmarks that can assess their capabilities and identify areas for improvement. In this review, we discuss recent developments in code generation benchmarks, focusing on their design, evaluation methodologies, and key findings.\n",
       "\n",
       "## Recent Developments in Code Generation Benchmarks\n",
       "Several recent benchmarks have been proposed to evaluate the capabilities of LLMs in code generation. [DS-1000](https://ds1000-code-gen.github.io) is a benchmark that focuses on data science code generation, featuring a thousand problems spanning seven Python libraries. This benchmark incorporates multi-criteria metrics to evaluate the correctness and reliability of generated code, achieving a high level of accuracy. In contrast, [BioCoder](https://github.com/gersteinlab/biocoder) targets bioinformatics code generation, covering a wide range of topics and incorporating a fuzz-testing framework for evaluation. [RedCode](https://github.com/AI-secure/RedCode) is a benchmark that focuses on the safety of code agents, evaluating their ability to recognize and handle risky code. [DOMAINEVAL](https://domaineval.github.io) is a multi-domain code benchmark that assesses the capabilities of LLMs in various domains, including computation, system, and cryptography. Finally, [BigCodeBench](https://bigcodebench.github.io) is a benchmark that challenges LLMs to invoke multiple function calls from diverse libraries and domains.\n",
       "\n",
       "## Evaluation Methodologies\n",
       "The evaluation methodologies employed by these benchmarks vary, but most involve a combination of automatic and manual evaluation. [DS-1000](https://ds1000-code-gen.github.io) uses multi-criteria metrics to evaluate the correctness and reliability of generated code, while [BioCoder](https://github.com/gersteinlab/biocoder) employs a fuzz-testing framework to assess the robustness of generated code. [RedCode](https://github.com/AI-secure/RedCode) uses a combination of automatic and manual evaluation to assess the safety of code agents, and [DOMAINEVAL](https://domaineval.github.io) relies on automatic evaluation to assess the capabilities of LLMs in various domains. [BigCodeBench](https://bigcodebench.github.io) uses a combination of automatic and manual evaluation to assess the ability of LLMs to invoke multiple function calls from diverse libraries and domains.\n",
       "\n",
       "## Results and Discussion\n",
       "The results of these benchmarks highlight the strengths and weaknesses of current LLMs in code generation. [DS-1000](https://ds1000-code-gen.github.io) shows that the current best public system achieves 43.3% accuracy, leaving ample room for improvement. [BioCoder](https://github.com/gersteinlab/biocoder) demonstrates that successful models require domain-specific knowledge of bioinformatics and the ability to accommodate long prompts with full context. [RedCode](https://github.com/AI-secure/RedCode) highlights the need for stringent safety evaluations for diverse code agents, as current models tend to produce more sophisticated and effective harmful software. [DOMAINEVAL](https://domaineval.github.io) reveals significant performance gaps between LLMs in different domains, with some models falling short on cryptography and system coding tasks. Finally, [BigCodeBench](https://bigcodebench.github.io) shows that LLMs are not yet capable of following complex instructions to use function calls precisely, with scores significantly lower than human performance.\n",
       "\n",
       "## Future Work\n",
       "The development of reliable and comprehensive benchmarks is crucial for further progress in code generation research. Future work should focus on creating benchmarks that evaluate the capabilities of LLMs in a variety of domains and tasks, as well as assessing their safety and reliability. The use of multi-criteria metrics and fuzz-testing frameworks can help to ensure the correctness and robustness of generated code. Additionally, the development of benchmarks that challenge LLMs to invoke multiple function calls from diverse libraries and domains can help to assess their ability to follow complex instructions and use function calls precisely.\n",
       "\n",
       "# Conclusions\n",
       "In conclusion, recent developments in code generation benchmarks have highlighted the strengths and weaknesses of current LLMs in code generation. The design and evaluation methodologies of these benchmarks have provided valuable insights into the capabilities and limitations of LLMs, and have identified areas for further research and improvement. As the field of code generation continues to evolve, the development of reliable and comprehensive benchmarks will remain crucial for assessing the capabilities and safety of LLMs, and for driving further progress in this area."
      ],
      "text/plain": [
       "<IPython.core.display.Markdown object>"
      ]
     },
     "metadata": {},
     "output_type": "display_data"
    }
   ],
   "source": [
    "display(Markdown(result))"
   ]
  },
  {
   "cell_type": "markdown",
   "id": "ee09773a-1fc2-4088-96b0-6e5f49a1224d",
   "metadata": {},
   "source": [
    "## Exercise\n",
    "Use a [relexion](https://arxiv.org/abs/2303.11366) approach to give feedback to the LLM about the text it just wrote and ask it to improve the manuscript."
   ]
  },
  {
   "cell_type": "code",
   "execution_count": null,
   "id": "f4583c79-0381-4bf5-ad33-a341f1111d06",
   "metadata": {},
   "outputs": [],
   "source": []
  }
 ],
 "metadata": {
  "kernelspec": {
   "display_name": "Python 3 (ipykernel)",
   "language": "python",
   "name": "python3"
  },
  "language_info": {
   "codemirror_mode": {
    "name": "ipython",
    "version": 3
   },
   "file_extension": ".py",
   "mimetype": "text/x-python",
   "name": "python",
   "nbconvert_exporter": "python",
   "pygments_lexer": "ipython3",
   "version": "3.11.11"
  }
 },
 "nbformat": 4,
 "nbformat_minor": 5
}
