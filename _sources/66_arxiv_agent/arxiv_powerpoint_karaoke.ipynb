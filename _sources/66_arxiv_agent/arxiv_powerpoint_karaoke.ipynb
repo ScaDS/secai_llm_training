{
 "cells": [
  {
   "cell_type": "markdown",
   "id": "2e2f5b58-9e18-4c5a-9cf7-157a71c82cf2",
   "metadata": {},
   "source": [
    "# PowerPoint Karaoke about Arxiv papers\n",
    "In this notebook we program an agent that is capable of generating PowerPoint slide decks out of Arxiv papers. We will use the [llama index](https://github.com/run-llama/llama_index) framework for programming the agent.\n",
    "\n",
    "We will use the [ScaDS.AI LLM infrastructure](https://llm.scads.ai/) infrastructure at the [Center for Information Services and High Performance Computing (ZIH) of TU Dresden](https://tu-dresden.de/zih). To use it, you must be connected via [TU Dresden VPN](https://tu-dresden.de/zih/dienste/service-katalog/arbeitsumgebung/zugang_datennetz/vpn) and have your API key stored in a `SCADSAI_API_KEY` environment variable."
   ]
  },
  {
   "cell_type": "code",
   "execution_count": 1,
   "id": "c9e08d14-4b62-4995-98b2-c8ebc9ad3a19",
   "metadata": {},
   "outputs": [],
   "source": [
    "import os\n",
    "from utilities import convert_to_markdown, search_arxiv, download_pdf, pdf_to_markdown, make_powerpoint_slides\n",
    "\n",
    "\n",
    "from llama_index.core.agent import ReActAgent\n",
    "from llama_index.llms.ollama import Ollama\n",
    "from llama_index.llms.openai_like import OpenAILike\n",
    "from llama_index.core.tools import FunctionTool\n"
   ]
  },
  {
   "cell_type": "markdown",
   "id": "d7397cb8-2f95-4bcb-9939-394efc29b729",
   "metadata": {},
   "source": [
    "First, we initialize the LLM. The server supports the OpenAI-API."
   ]
  },
  {
   "cell_type": "code",
   "execution_count": 2,
   "id": "ff25567c-c738-4102-853f-bf35264e00b6",
   "metadata": {},
   "outputs": [],
   "source": [
    "llm = OpenAILike(model=\"meta-llama/Llama-3.3-70B-Instruct\", \n",
    "                 request_timeout=120.0, \n",
    "                 api_base=\"https://llm.scads.ai/v1\", \n",
    "                 api_key=os.environ.get('SCADSAI_API_KEY'), max_tokens=2048)"
   ]
  },
  {
   "cell_type": "markdown",
   "id": "7719e892-177a-4b80-800c-9da41326755b",
   "metadata": {},
   "source": [
    "Next, we specify tools. The actual functionality is programmed in [arxiv_utilities.py](arxiv_utilities.py). Note: To make these functions work, they require detailed docstrings describing precisely what parameters the functions require."
   ]
  },
  {
   "cell_type": "code",
   "execution_count": 3,
   "id": "b3b53d23-a2bc-415f-9374-1091f64313ef",
   "metadata": {},
   "outputs": [],
   "source": [
    "tools = []\n",
    "\n",
    "@tools.append\n",
    "def search_publications(query:str=None, author:str=None, year:str=None)->str:\n",
    "    \"\"\"Searches the arxiv for papers using a query, selects papers from given authors and/or by year.\n",
    "    \n",
    "    Args:\n",
    "        query: Search terms\n",
    "        author: Author(s) of the searched items\n",
    "        year: publication year\n",
    "\n",
    "    Returns:\n",
    "        Found paper(s)\n",
    "    \"\"\"\n",
    "    print(\"Searching...\")\n",
    "    papers = search_arxiv(query=query, author=author, year=year, max_results=3)\n",
    "    markdown = convert_to_markdown(papers)\n",
    "    \n",
    "    return markdown\n",
    "\n",
    "@tools.append\n",
    "def download_paper(paper_link:str)->str:\n",
    "    \"\"\"Downloads a paper and return its contents as markdown.\n",
    "    \n",
    "    Args:\n",
    "        paper_link: url of the paper to be downloaded\n",
    "\n",
    "    Returns:\n",
    "        Content of the paper\n",
    "    \"\"\"\n",
    "    print(\"Downloading...\", filename)\n",
    "\n",
    "    filename = download_pdf(paper_link)\n",
    "\n",
    "    if filename is not None:\n",
    "        return pdf_to_markdown(filename)\n",
    "\n",
    "# You can also add external tools like this.\n",
    "tools.append(make_powerpoint_slides)"
   ]
  },
  {
   "cell_type": "markdown",
   "id": "2b9d1425-f8ed-49e8-8f89-d4fc0cf2710e",
   "metadata": {},
   "source": [
    "We can then initialize the agent."
   ]
  },
  {
   "cell_type": "code",
   "execution_count": 4,
   "id": "9bf93ba3-9116-492d-bb26-0e9ea9a90c60",
   "metadata": {},
   "outputs": [],
   "source": [
    "agent = ReActAgent.from_tools([FunctionTool.from_defaults(fn=t) for t in tools], llm=llm, verbose=False)"
   ]
  },
  {
   "cell_type": "code",
   "execution_count": 5,
   "id": "05188920-a507-4f65-9188-eea961ed1ccd",
   "metadata": {},
   "outputs": [
    {
     "name": "stdout",
     "output_type": "stream",
     "text": [
      "Searching...\n",
      "Creating PowerPoint slides LLM_presentation\n"
     ]
    },
    {
     "data": {
      "text/markdown": [
       "The Powerpoint Presentation was saved as [LLM_presentation](LLM_presentation)"
      ],
      "text/plain": [
       "<IPython.core.display.Markdown object>"
      ]
     },
     "metadata": {},
     "output_type": "display_data"
    },
    {
     "data": {
      "text/plain": [
       "'The Powerpoint Presentation was saved as LLM_presentation.pptx. It contains 5 slides: the first slide is the title slide with the authors and link to the paper, and the following slides are about the introduction, methods, results, and conclusion of the paper. Please note that the content of the slides is based on the search results and may not be entirely accurate. It is recommended to verify the content with the original paper.'"
      ]
     },
     "execution_count": 5,
     "metadata": {},
     "output_type": "execute_result"
    }
   ],
   "source": [
    "result = agent.chat(\"\"\"\n",
    "I need to give a presentation about the latest arxiv paper from the year 2022 that was about LLMs.\n",
    "Please make a powerpoint slide deck about this paper.\n",
    "The first slide should have the same title as the paper, and mention the authors, and give a link to the paper.\n",
    "The following slides are about the individual chapters of the paper.\n",
    "\"\"\")\n",
    "\n",
    "result.response"
   ]
  },
  {
   "cell_type": "markdown",
   "id": "c81e28a2-898b-4141-8447-76d131aca19b",
   "metadata": {},
   "source": [
    "## Exercise\n",
    "Program your own agent that creates a PowerPoint presentation for a PDF you provide."
   ]
  },
  {
   "cell_type": "code",
   "execution_count": null,
   "id": "fe5c39e5-000e-4281-8e73-4990c97c54a8",
   "metadata": {},
   "outputs": [],
   "source": []
  },
  {
   "cell_type": "markdown",
   "id": "2b25732b-daae-4e5e-b90c-a3f9129c543b",
   "metadata": {},
   "source": [
    "## Exercise\n",
    "The following language models are available on the Server. Find out which of those are capable of generating a slide deck.\n",
    "E.g. run the prompt above for every LLM 10 times and count how often a pptx file is created.\n",
    "\n",
    "Hints: \n",
    "* You may have to specify the pptx filename to make this work.\n",
    "* To see what the agent is doing under the hood, consider setting `verbose=True`.\n",
    "\n",
    "Available models are:"
   ]
  },
  {
   "cell_type": "code",
   "execution_count": 6,
   "id": "d12a4dd4-d43a-49f5-b705-9681fd02da12",
   "metadata": {},
   "outputs": [
    {
     "name": "stdout",
     "output_type": "stream",
     "text": [
      "openGPT-X/Teuken-7B-instruct-research-v0.4\n",
      "deepseek-ai/DeepSeek-R1-Distill-Qwen-32B\n",
      "Qwen/Qwen2-VL-7B-Instruct\n",
      "en-de-translator\n",
      "meta-llama/Llama-3.3-70B-Instruct\n",
      "tts-1-hd\n",
      "deepseek-ai/DeepSeek-R1\n",
      "Alibaba-NLP/gte-Qwen2-1.5B-instruct\n",
      "CohereForAI/c4ai-command-r-08-2024\n",
      "deepseek-ai/DeepSeek-Coder-V2-Lite-Instruct\n",
      "mistral-7b-q4\n"
     ]
    }
   ],
   "source": [
    "import openai\n",
    "client = openai.OpenAI(base_url=\"https://llm.scads.ai/v1\",\n",
    "                       api_key=os.environ.get('SCADSAI_API_KEY'))\n",
    "\n",
    "print(\"\\n\".join([model.id for model in client.models.list().data]))"
   ]
  },
  {
   "cell_type": "code",
   "execution_count": null,
   "id": "fa2750f5-e25c-42b8-980b-cdcca6bad0e4",
   "metadata": {},
   "outputs": [],
   "source": []
  }
 ],
 "metadata": {
  "kernelspec": {
   "display_name": "Python 3 (ipykernel)",
   "language": "python",
   "name": "python3"
  },
  "language_info": {
   "codemirror_mode": {
    "name": "ipython",
    "version": 3
   },
   "file_extension": ".py",
   "mimetype": "text/x-python",
   "name": "python",
   "nbconvert_exporter": "python",
   "pygments_lexer": "ipython3",
   "version": "3.11.11"
  }
 },
 "nbformat": 4,
 "nbformat_minor": 5
}
