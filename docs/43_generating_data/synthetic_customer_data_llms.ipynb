{
 "cells": [
  {
   "cell_type": "markdown",
   "metadata": {},
   "source": [
    "# Generating synthetic customer data\n",
    "\n",
    "In this notebook, we will generate synthetic customer data using an LLM. For this we use JSON format. Eventually we will plot the data to see shortcomings of using LLMs for this..\n",
    "\n",
    "Note: This notebook was AI-generated (and human curated) using an LLM as shown [here](https://github.com/haesleinhuepf/BioImageAnalysisNotebooks/issues/64)."
   ]
  },
  {
   "cell_type": "code",
   "execution_count": 1,
   "metadata": {},
   "outputs": [],
   "source": [
    "import json\n",
    "import pandas as pd\n",
    "import seaborn as sns\n",
    "import matplotlib.pyplot as plt\n",
    "import openai\n",
    "from tqdm import tqdm"
   ]
  },
  {
   "cell_type": "code",
   "execution_count": 2,
   "metadata": {},
   "outputs": [],
   "source": [
    "# Reusing LLM utility functions from earlier exercise\n",
    "import sys\n",
    "sys.path.append(\"../20_chatbots/\")\n",
    "from llm_utilities import prompt_scadsai_llm, prompt_ollama, prompt_blablador, prompt_kisski\n",
    "prompt = prompt_scadsai_llm"
   ]
  },
  {
   "cell_type": "markdown",
   "metadata": {},
   "source": [
    "## Define the synthetic data generation function\n",
    "\n",
    "We'll create a function that uses the LLM to generate customer data in JSON format."
   ]
  },
  {
   "cell_type": "code",
   "execution_count": 3,
   "metadata": {},
   "outputs": [
    {
     "ename": "NameError",
     "evalue": "name 'customer_generator' is not defined",
     "output_type": "error",
     "traceback": [
      "\u001b[1;31m---------------------------------------------------------------------------\u001b[0m",
      "\u001b[1;31mNameError\u001b[0m                                 Traceback (most recent call last)",
      "Cell \u001b[1;32mIn[3], line 20\u001b[0m\n\u001b[0;32m     17\u001b[0m     \u001b[38;5;28;01mreturn\u001b[39;00m prompt(prompt_text)\n\u001b[0;32m     19\u001b[0m \u001b[38;5;66;03m# Test the function\u001b[39;00m\n\u001b[1;32m---> 20\u001b[0m sample_data \u001b[38;5;241m=\u001b[39m \u001b[43mcustomer_generator\u001b[49m()\n\u001b[0;32m     21\u001b[0m \u001b[38;5;28mprint\u001b[39m(sample_data)\n",
      "\u001b[1;31mNameError\u001b[0m: name 'customer_generator' is not defined"
     ]
    }
   ],
   "source": [
    "def generate_customer() -> str:\n",
    "    prompt_text = \"\"\"Generate one realistic customer profile in valid JSON format with the following structure:\n",
    "    {\n",
    "        'name': str,\n",
    "        'gender': str,\n",
    "        'age': int,\n",
    "        'income': float,\n",
    "        'household_size': int,\n",
    "        'grocery_list': [\n",
    "            {'item': str, 'price': float},\n",
    "            ...\n",
    "        ]\n",
    "    }\n",
    "    Include 5-10 grocery items with realistic prices.\n",
    "    \n",
    "    Respond with the JSON data only and no markdown fences.\"\"\"\n",
    "    return prompt(prompt_text)\n",
    "\n",
    "# Test the function\n",
    "sample_data = generate_customer()\n",
    "print(sample_data)"
   ]
  },
  {
   "cell_type": "markdown",
   "metadata": {},
   "source": [
    "## Collect and validate customer records\n",
    "\n",
    "We'll generate 10 customer records and validate the JSON format."
   ]
  },
  {
   "cell_type": "code",
   "execution_count": null,
   "metadata": {},
   "outputs": [],
   "source": [
    "customer_records = []\n",
    "\n",
    "for i in tqdm(range(100)):\n",
    "    try:\n",
    "        data = generate_customer()\n",
    "        # Validate JSON\n",
    "        customer_data = json.loads(data)\n",
    "        customer_records.append(customer_data)\n",
    "    except json.JSONDecodeError:\n",
    "        print(f\"Invalid JSON format in record {i+1}\")\n",
    "\n",
    "print(f\"\\nCollected {len(customer_records)} valid customer records\")"
   ]
  },
  {
   "cell_type": "markdown",
   "metadata": {},
   "source": [
    "## Transform data into a DataFrame\n",
    "\n",
    "We'll create two DataFrames:\n",
    "1. Customer information\n",
    "2. Calculate total weekly grocery spending"
   ]
  },
  {
   "cell_type": "code",
   "execution_count": null,
   "metadata": {},
   "outputs": [],
   "source": [
    "# Extract customer info\n",
    "customer_info = []\n",
    "for record in customer_records:\n",
    "    try:\n",
    "        # Calculate total spending\n",
    "        total_spending = sum(item['price'] for item in record['grocery_list'])\n",
    "        \n",
    "        customer_info.append({\n",
    "            'name': record['name'],\n",
    "            'gender': record['gender'],\n",
    "            'age': record['age'],\n",
    "            'income': record['income'],\n",
    "            'household_size': record['household_size'],\n",
    "            'weekly_spending': total_spending\n",
    "        })\n",
    "    except:\n",
    "        print(\"Error processing record\")\n",
    "\n",
    "df = pd.DataFrame(customer_info)\n",
    "display(df)"
   ]
  },
  {
   "cell_type": "markdown",
   "metadata": {},
   "source": [
    "## Visualize relationships in the data\n",
    "\n",
    "Let's create several plots to analyze relationships between variables:"
   ]
  },
  {
   "cell_type": "code",
   "execution_count": null,
   "metadata": {},
   "outputs": [],
   "source": [
    "# Create a figure with three subplots\n",
    "fig, (ax1, ax2, ax3) = plt.subplots(1, 3, figsize=(15, 5))\n",
    "\n",
    "# Age vs Income\n",
    "sns.scatterplot(data=df, x='age', y='income', ax=ax1)\n",
    "ax1.set_title('Age vs Income')\n",
    "\n",
    "# Income vs Weekly Shopping\n",
    "sns.scatterplot(data=df, x='income', y='weekly_spending', ax=ax2)\n",
    "ax2.set_title('Income vs Weekly Spending')\n",
    "\n",
    "# Household Size vs Weekly Shopping\n",
    "sns.scatterplot(data=df, x='household_size', y='weekly_spending', ax=ax3)\n",
    "ax3.set_title('Household Size vs Weekly Spending')\n",
    "\n",
    "plt.tight_layout()\n",
    "plt.show()"
   ]
  },
  {
   "cell_type": "markdown",
   "metadata": {},
   "source": [
    "## Additional Analysis: Shopping patterns by gender"
   ]
  },
  {
   "cell_type": "code",
   "execution_count": null,
   "metadata": {},
   "outputs": [],
   "source": [
    "# Box plot of weekly spending by gender\n",
    "plt.figure(figsize=(8, 6))\n",
    "sns.boxplot(data=df, x='gender', y='weekly_spending')\n",
    "plt.title('Weekly Spending Distribution by Gender')\n",
    "plt.show()"
   ]
  },
  {
   "cell_type": "markdown",
   "metadata": {},
   "source": [
    "## Exercise\n",
    "Modify the prompt to prevent multiple forms of \"Male\", \"male\" or \"m\" genders."
   ]
  },
  {
   "cell_type": "code",
   "execution_count": null,
   "metadata": {},
   "outputs": [],
   "source": []
  }
 ],
 "metadata": {
  "kernelspec": {
   "display_name": "Python 3 (ipykernel)",
   "language": "python",
   "name": "python3"
  },
  "language_info": {
   "codemirror_mode": {
    "name": "ipython",
    "version": 3
   },
   "file_extension": ".py",
   "mimetype": "text/x-python",
   "name": "python",
   "nbconvert_exporter": "python",
   "pygments_lexer": "ipython3",
   "version": "3.11.11"
  }
 },
 "nbformat": 4,
 "nbformat_minor": 4
}
