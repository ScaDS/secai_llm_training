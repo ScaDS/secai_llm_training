{
 "cells": [
  {
   "cell_type": "markdown",
   "id": "4c0bada8-fdf1-451b-8684-df384d71afd3",
   "metadata": {},
   "source": [
    "# Chat with documentation about HPC systems\n",
    "When building chatbots and related RAG systems, it is key to have the underlying knowledgebase available in high quality. Extracting these information from PDFs is challenging. Hence, if the data also exists in better machine-readable formats such as markdown, this can be beneficial.\n",
    "\n",
    "In this example, we will use the [HPC compendium](https://compendium.hpc.tu-dresden.de/) which is licensed under [CC BY 4.0](https://creativecommons.org/licenses/by/4.0/) by TU Dresden ZIH.\n",
    "\n",
    "It can be downloaded like this:\n",
    "```\n",
    "!git clone https://gitlab.hrz.tu-chemnitz.de/zih/hpcsupport/hpc-compendium.git\n",
    "```\n",
    "\n",
    "To make the rest of this notebook work, ensure that the specified folder below exists."
   ]
  },
  {
   "cell_type": "code",
   "execution_count": 1,
   "id": "7fa26e15-71fa-43b5-ad5e-bdb07c6122a1",
   "metadata": {},
   "outputs": [],
   "source": [
    "import os"
   ]
  },
  {
   "cell_type": "code",
   "execution_count": 2,
   "id": "24aed7e0-b0f0-4b33-b8cc-b87fe15a1e07",
   "metadata": {},
   "outputs": [],
   "source": [
    "docs_root_path = 'hpc-compendium/doc.zih.tu-dresden.de/docs/'"
   ]
  },
  {
   "cell_type": "markdown",
   "id": "72b42036-c65d-4762-be02-6a304f1b542e",
   "metadata": {},
   "source": [
    "To demonstrate different chatting-strategies, we will summarize the knowledge base in different ways."
   ]
  },
  {
   "cell_type": "code",
   "execution_count": 3,
   "id": "c7621d11-ed68-4142-bd87-2bf7996946d0",
   "metadata": {},
   "outputs": [
    {
     "name": "stdout",
     "output_type": "stream",
     "text": [
      "Generated summary for: accessibility.md\n",
      "Generated summary for: data_protection_declaration.md\n",
      "Generated summary for: index.md\n",
      "Generated summary for: legal_notice.md\n",
      "Generated summary for: access\\desktop_cloud_visualization.md\n",
      "Generated summary for: access\\graphical_applications_with_webvnc.md\n",
      "Generated summary for: access\\jupyterhub.md\n",
      "Generated summary for: access\\jupyterhub_custom_environments.md\n",
      "Generated summary for: access\\jupyterhub_for_teaching.md\n",
      "Generated summary for: access\\jupyterhub_teaching_example.md\n",
      "Generated summary for: access\\jupyterlab.md\n",
      "Generated summary for: access\\jupyterlab_user.md\n",
      "Generated summary for: access\\key_fingerprints.md\n",
      "Generated summary for: access\\overview.md\n",
      "Generated summary for: access\\security_restrictions.md\n",
      "Generated summary for: access\\ssh_login.md\n",
      "Generated summary for: access\\ssh_mobaxterm.md\n",
      "Generated summary for: access\\ssh_putty.md\n",
      "Generated summary for: application\\acknowledgement.md\n",
      "Generated summary for: application\\overview.md\n",
      "Generated summary for: application\\project_management.md\n",
      "Generated summary for: application\\terms_of_use.md\n",
      "Generated summary for: contrib\\content_rules.md\n",
      "Generated summary for: contrib\\contribute_browser.md\n",
      "Generated summary for: contrib\\contribute_container.md\n",
      "Generated summary for: contrib\\howto_contribute.md\n",
      "Generated summary for: data_lifecycle\\data_sharing.md\n",
      "Generated summary for: data_lifecycle\\file_systems.md\n",
      "Generated summary for: data_lifecycle\\longterm_preservation.md\n",
      "Generated summary for: data_lifecycle\\lustre.md\n",
      "Generated summary for: data_lifecycle\\overview.md\n",
      "Generated summary for: data_lifecycle\\permanent.md\n",
      "Generated summary for: data_lifecycle\\working.md\n",
      "Generated summary for: data_lifecycle\\workspaces.md\n",
      "Generated summary for: data_transfer\\datamover.md\n",
      "Generated summary for: data_transfer\\dataport_nodes.md\n",
      "Generated summary for: data_transfer\\object_storage.md\n",
      "Generated summary for: data_transfer\\overview.md\n",
      "Generated summary for: jobs_and_resources\\alpha_centauri.md\n",
      "Generated summary for: jobs_and_resources\\arm_hpc_devkit.md\n",
      "Generated summary for: jobs_and_resources\\binding_and_distribution_of_tasks.md\n",
      "Generated summary for: jobs_and_resources\\capella.md\n",
      "Generated summary for: jobs_and_resources\\checkpoint_restart.md\n",
      "Generated summary for: jobs_and_resources\\hardware_overview.md\n",
      "Generated summary for: jobs_and_resources\\julia.md\n",
      "Generated summary for: jobs_and_resources\\mpi_issues.md\n",
      "Generated summary for: jobs_and_resources\\nvme_storage.md\n",
      "Generated summary for: jobs_and_resources\\overview.md\n",
      "Generated summary for: jobs_and_resources\\power9.md\n",
      "Generated summary for: jobs_and_resources\\romeo.md\n",
      "Generated summary for: jobs_and_resources\\slurm.md\n",
      "Generated summary for: jobs_and_resources\\slurm_examples.md\n",
      "Generated summary for: jobs_and_resources\\slurm_examples_with_gpu.md\n",
      "Generated summary for: jobs_and_resources\\slurm_generator.md\n",
      "Generated summary for: jobs_and_resources\\slurm_limits.md\n",
      "Generated summary for: quickstart\\getting_started.md\n",
      "Generated summary for: software\\big_data_frameworks.md\n",
      "Generated summary for: software\\building_software.md\n",
      "Generated summary for: software\\cfd.md\n",
      "Generated summary for: software\\cicd.md\n",
      "Generated summary for: software\\compilers.md\n",
      "Generated summary for: software\\containers.md\n",
      "Generated summary for: software\\custom_easy_build_environment.md\n",
      "Generated summary for: software\\data_analytics.md\n",
      "Generated summary for: software\\data_analytics_with_python.md\n",
      "Generated summary for: software\\data_analytics_with_r.md\n",
      "Generated summary for: software\\data_analytics_with_rstudio.md\n",
      "Generated summary for: software\\debuggers.md\n",
      "Generated summary for: software\\distributed_training.md\n",
      "Generated summary for: software\\energy_measurement.md\n",
      "Generated summary for: software\\fem_software.md\n",
      "Generated summary for: software\\gpu_programming.md\n",
      "Generated summary for: software\\hyperparameter_optimization.md\n",
      "Generated summary for: software\\licenses.md\n",
      "Generated summary for: software\\lo2s.md\n",
      "Generated summary for: software\\machine_learning.md\n",
      "Generated summary for: software\\mathematics.md\n",
      "Generated summary for: software\\math_libraries.md\n",
      "Generated summary for: software\\modules.md\n",
      "Generated summary for: software\\mpi_usage_error_detection.md\n",
      "Generated summary for: software\\nanoscale_simulations.md\n",
      "Generated summary for: software\\ngc_containers.md\n",
      "Generated summary for: software\\overview.md\n",
      "Generated summary for: software\\papi.md\n",
      "Generated summary for: software\\performance_engineering_overview.md\n",
      "Generated summary for: software\\perf_tools.md\n",
      "Generated summary for: software\\pika.md\n",
      "Generated summary for: software\\power_ai.md\n",
      "Generated summary for: software\\private_modules.md\n",
      "Generated summary for: software\\python_virtual_environments.md\n",
      "Generated summary for: software\\pytorch.md\n",
      "Generated summary for: software\\scorep.md\n",
      "Generated summary for: software\\singularity_power9.md\n",
      "Generated summary for: software\\singularity_recipe_hints.md\n",
      "Generated summary for: software\\software_development_overview.md\n",
      "Generated summary for: software\\spec.md\n",
      "Generated summary for: software\\tensorboard.md\n",
      "Generated summary for: software\\tensorflow.md\n",
      "Generated summary for: software\\utilities.md\n",
      "Generated summary for: software\\vampir.md\n",
      "Generated summary for: software\\virtual_desktops.md\n",
      "Generated summary for: software\\virtual_machines.md\n",
      "Generated summary for: software\\visualization.md\n",
      "Generated summary for: software\\zsh.md\n",
      "Generated summary for: support\\support.md\n",
      "Number of summaries: 105\n",
      "Length of full_text: 839248\n"
     ]
    }
   ],
   "source": [
    "# Create dictionary to store summaries\n",
    "summaries = {}\n",
    "full_text = \"\"\n",
    "\n",
    "# Extract file paths from the markdown structure\n",
    "for root, dirs, files in os.walk(docs_root_path):\n",
    "    for file in files:\n",
    "        if file.endswith('.md'):\n",
    "            file_path = os.path.join(root, file)\n",
    "            if \"archive\" in file_path: # skip the archive folder\n",
    "                continue\n",
    "            \n",
    "            # Read the file content\n",
    "            try:\n",
    "                with open(file_path, 'r', encoding='utf-8') as f:\n",
    "                    content = f.read()\n",
    "\n",
    "                full_text = full_text + \"\\n\\n\" + content\n",
    "                \n",
    "                # Generate summary using the LLM\n",
    "                prompt = f\"Please provide a one-sentence summary of this markdown document in English:\\n\\n{content}\"\n",
    "                summary = prompt_scadsai_llm(prompt)\n",
    "                \n",
    "                # Store in dictionary using relative path as key\n",
    "                rel_path = os.path.relpath(file_path, docs_root_path)\n",
    "                summaries[rel_path.replace(\"\\\\\", \"/\")] = summary\n",
    "                \n",
    "                # Print progress\n",
    "                print(f\"Generated summary for: {rel_path}\")\n",
    "                \n",
    "            except Exception as e:\n",
    "                print(f\"Error processing {file_path}: {str(e)}\")\n",
    "\n",
    "print(\"Number of summaries:\", len(summaries))\n",
    "print(\"Length of full_text:\", len(full_text))"
   ]
  },
  {
   "cell_type": "code",
   "execution_count": 4,
   "id": "edd3cb14-0162-4ed9-91bd-7d2618bc69d1",
   "metadata": {},
   "outputs": [],
   "source": [
    "with open('hpc_compendium_full_text.md', 'w', encoding='utf-8') as f:\n",
    "    f.write(full_text)"
   ]
  },
  {
   "cell_type": "code",
   "execution_count": 5,
   "id": "5ee0315f-d90a-4742-ba57-21b25b28b9bf",
   "metadata": {},
   "outputs": [
    {
     "name": "stdout",
     "output_type": "stream",
     "text": [
      "Summaries have been saved to 'summaries.md'\n"
     ]
    }
   ],
   "source": [
    "# Write summaries to markdown file\n",
    "with open('hpc_compendium_summaries.md', 'w', encoding='utf-8') as f:\n",
    "    for filename, summary in summaries.items():\n",
    "        # Write filename as bullet point\n",
    "        f.write(f\"* {filename}:\\n\")\n",
    "        # Write summary on next line with newline after\n",
    "        f.write(f\"{summary}\\n\\n\")\n",
    "\n",
    "print(\"Summaries have been saved to 'summaries.md'\")"
   ]
  }
 ],
 "metadata": {
  "kernelspec": {
   "display_name": "Python 3 (ipykernel)",
   "language": "python",
   "name": "python3"
  },
  "language_info": {
   "codemirror_mode": {
    "name": "ipython",
    "version": 3
   },
   "file_extension": ".py",
   "mimetype": "text/x-python",
   "name": "python",
   "nbconvert_exporter": "python",
   "pygments_lexer": "ipython3",
   "version": "3.11.11"
  }
 },
 "nbformat": 4,
 "nbformat_minor": 5
}
