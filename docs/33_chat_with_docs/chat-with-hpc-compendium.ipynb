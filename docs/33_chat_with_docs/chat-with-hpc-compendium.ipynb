{
 "cells": [
  {
   "cell_type": "markdown",
   "id": "86de0896-124c-4959-a870-24d61aeec369",
   "metadata": {},
   "source": [
    "# Ask about the HPC compendium\n",
    "In this RAG example, we will use the [HPC compendium](https://compendium.hpc.tu-dresden.de/) which is licensed under [CC BY 4.0](https://creativecommons.org/licenses/by/4.0/) by TU Dresden ZIH. \n",
    "\n",
    "Hint: Execute this notebook from the terminal using `voila chat-with-hpc-compendium.ipynb`."
   ]
  },
  {
   "cell_type": "code",
   "execution_count": 1,
   "id": "4ac787b3-cefb-4bd3-8175-c7a810975911",
   "metadata": {},
   "outputs": [],
   "source": [
    "from llama_index.core import VectorStoreIndex, SimpleDirectoryReader\n",
    "import ipywidgets as widgets\n",
    "from IPython.display import display\n",
    "import numpy as np\n",
    "import os"
   ]
  },
  {
   "cell_type": "code",
   "execution_count": 2,
   "id": "dcb167a0-3359-48b0-a3e3-0d1c875046da",
   "metadata": {},
   "outputs": [],
   "source": [
    "from llama_index.core import Settings\n",
    "from llama_index.embeddings.huggingface import HuggingFaceEmbedding\n",
    "from llama_index.llms.openai_like import OpenAILike\n",
    "\n",
    "# bge-base embedding model\n",
    "Settings.embed_model = HuggingFaceEmbedding(model_name=\"BAAI/bge-base-en-v1.5\")\n",
    "\n",
    "# ollama\n",
    "Settings.llm = OpenAILike(model=\"meta-llama/Llama-3.3-70B-Instruct\", \n",
    "                          request_timeout=120.0, \n",
    "                          api_base=\"https://llm.scads.ai/v1\", \n",
    "                          api_key=os.environ.get('SCADSAI_API_KEY'))"
   ]
  },
  {
   "cell_type": "code",
   "execution_count": 3,
   "id": "9997cb9b-ea5a-4e0e-afef-1f42ac2e01be",
   "metadata": {},
   "outputs": [],
   "source": [
    "class Chat():\n",
    "    def __init__(self):\n",
    "        self.former_folder = None\n",
    "        \n",
    "    def load(self, folder):\n",
    "        if self.former_folder == folder:\n",
    "            return self.count_documents()\n",
    "        self.former_folder = folder\n",
    "        \n",
    "        documents = SimpleDirectoryReader(folder, required_exts=[\".md\"], recursive=True).load_data()\n",
    "        index = VectorStoreIndex.from_documents(documents)\n",
    "        self._query_engine = index.as_query_engine()\n",
    "        self._documents = documents\n",
    "        return self.count_documents()\n",
    "\n",
    "    def count_documents(self):\n",
    "        return len(np.unique([d.metadata[\"file_name\"] for d in self._documents]))\n",
    "        \n",
    "    def query(self, question):\n",
    "        return self._query_engine.query(question)"
   ]
  },
  {
   "cell_type": "code",
   "execution_count": 4,
   "id": "95f23057-ab49-4308-b053-7bcb903e075b",
   "metadata": {},
   "outputs": [
    {
     "data": {
      "application/vnd.jupyter.widget-view+json": {
       "model_id": "223a27c7fcec4c64b0ba72195c77f5d3",
       "version_major": 2,
       "version_minor": 0
      },
      "text/plain": [
       "HBox(children=(Text(value='hpc-compendium/doc.zih.tu-dresden.de/docs/', continuous_update=False, placeholder='…"
      ]
     },
     "metadata": {},
     "output_type": "display_data"
    },
    {
     "data": {
      "application/vnd.jupyter.widget-view+json": {
       "model_id": "96bbc04e28734a0ab1c24d26066c992c",
       "version_major": 2,
       "version_minor": 0
      },
      "text/plain": [
       "HTML(value=\"\\n    <div style='text-align:left; color: darkgrey; font-size: 20px'>127 documents loaded.</div>\\n…"
      ]
     },
     "metadata": {},
     "output_type": "display_data"
    },
    {
     "data": {
      "application/vnd.jupyter.widget-view+json": {
       "model_id": "2efd218694d64686bb009db9918ead64",
       "version_major": 2,
       "version_minor": 0
      },
      "text/plain": [
       "HBox(children=(Text(value='', continuous_update=False, placeholder='Enter a question here'), Button(descriptio…"
      ]
     },
     "metadata": {},
     "output_type": "display_data"
    }
   ],
   "source": [
    "# Create user interface\n",
    "docs_input = widgets.Text(value=\"hpc-compendium/doc.zih.tu-dresden.de/docs/\", placeholder=\"Enter a directory here\")\n",
    "load_button = widgets.Button(description=\"Load\")\n",
    "\n",
    "output_label = widgets.HTML(value=\"\")\n",
    "\n",
    "text_input = widgets.Text(placeholder=\"Enter a question here\")\n",
    "submit_button = widgets.Button(description=\"Submit\")\n",
    "\n",
    "chat = Chat()\n",
    "\n",
    "def on_load(e=None):    \n",
    "    number_of_documents = chat.load(docs_input.value)\n",
    "    output_label.value = f\"\"\"\n",
    "    <div style='text-align:left; color: darkgrey; font-size: 20px'>{number_of_documents} documents loaded.</div>\n",
    "    \"\"\"\n",
    "    if number_of_documents > 0:\n",
    "        submit_button.disabled = False\n",
    "\n",
    "def on_submit(e):\n",
    "    question = text_input.value\n",
    "    if len(question) == 0:\n",
    "        return\n",
    "    text_input.value = \"\"\n",
    "\n",
    "    # submit prompt to LLM\n",
    "    answer = chat.query(question)\n",
    "\n",
    "    # Append question and answer to the existing HTML content\n",
    "    output_label.value += f\"\"\"\n",
    "    <div style='text-align:right; color: blue; font-size: 20px'>{question}</div>\n",
    "    <div style='text-align:left; color: darkgreen; font-size: 20px'>{answer}</div>\n",
    "    \"\"\"\n",
    "\n",
    "# Attach the event handler to the text field and the button\n",
    "docs_input.continuous_update = False\n",
    "docs_input.observe(on_load)\n",
    "load_button.on_click(on_load)\n",
    "\n",
    "text_input.continuous_update = False\n",
    "text_input.observe(on_submit)\n",
    "submit_button.on_click(on_submit)\n",
    "submit_button.disabled = True\n",
    "\n",
    "on_load()\n",
    "\n",
    "# Arrange the widgets for display\n",
    "display(widgets.HBox([docs_input, load_button]), output_label, widgets.HBox([text_input, submit_button]))"
   ]
  },
  {
   "cell_type": "code",
   "execution_count": null,
   "id": "a40799f4-1c5d-4174-8f76-fc51b1691a60",
   "metadata": {},
   "outputs": [],
   "source": []
  },
  {
   "cell_type": "code",
   "execution_count": null,
   "id": "4eb80437-bc36-40c6-aaab-a523d8f4a53a",
   "metadata": {},
   "outputs": [],
   "source": []
  }
 ],
 "metadata": {
  "kernelspec": {
   "display_name": "Python 3 (ipykernel)",
   "language": "python",
   "name": "python3"
  },
  "language_info": {
   "codemirror_mode": {
    "name": "ipython",
    "version": 3
   },
   "file_extension": ".py",
   "mimetype": "text/x-python",
   "name": "python",
   "nbconvert_exporter": "python",
   "pygments_lexer": "ipython3",
   "version": "3.11.11"
  }
 },
 "nbformat": 4,
 "nbformat_minor": 5
}
